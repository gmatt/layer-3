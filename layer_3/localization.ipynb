{
 "cells": [
  {
   "cell_type": "code",
   "execution_count": null,
   "id": "85cd14fb77e6f082",
   "metadata": {
    "collapsed": true
   },
   "outputs": [],
   "source": [
    "import numpy as np\n",
    "import torch\n",
    "from PIL import Image\n",
    "from lavis.common.gradcam import getAttMap\n",
    "from lavis.models import load_model_and_preprocess\n",
    "from lavis.models.blip_models.blip_image_text_matching import compute_gradcam\n",
    "from matplotlib import pyplot as plt\n",
    "from pyprojroot import here"
   ]
  },
  {
   "cell_type": "code",
   "execution_count": null,
   "outputs": [],
   "source": [
    "device = torch.device(\"cuda\") if torch.cuda.is_available() else \"cpu\"\n",
    "\n",
    "model, vis_processors, text_processors = load_model_and_preprocess(\n",
    "    \"blip_image_text_matching\",\n",
    "    \"large\",\n",
    "    device=device,\n",
    "    is_eval=True,\n",
    ")"
   ],
   "metadata": {
    "collapsed": false
   },
   "id": "674a7b84df2f2e3"
  },
  {
   "cell_type": "code",
   "execution_count": null,
   "outputs": [],
   "source": [
    "raw_image = Image.open(here(\"data/test-images/img_2.png\")).convert(\"RGB\")\n",
    "display(raw_image)"
   ],
   "metadata": {
    "collapsed": false
   },
   "id": "20fcbfb99edc54bf"
  },
  {
   "cell_type": "code",
   "execution_count": null,
   "outputs": [],
   "source": [
    "caption = \"Spotify\""
   ],
   "metadata": {
    "collapsed": false
   },
   "id": "9d4fb15b344b2579"
  },
  {
   "cell_type": "code",
   "execution_count": null,
   "outputs": [],
   "source": [
    "%%time\n",
    "\n",
    "dst_w = 720\n",
    "w, h = raw_image.size\n",
    "scaling_factor = dst_w / w\n",
    "\n",
    "resized_img = raw_image.resize((int(w * scaling_factor), int(h * scaling_factor)))\n",
    "norm_img = np.float32(resized_img) / 255\n",
    "img = vis_processors[\"eval\"](raw_image).unsqueeze(0).to(device)\n",
    "txt = text_processors[\"eval\"](caption)\n",
    "txt_tokens = model.tokenizer(txt, return_tensors=\"pt\").to(device)\n",
    "gradcam, _ = compute_gradcam(model, img, txt, txt_tokens, block_num=7)\n",
    "avg_gradcam = getAttMap(norm_img, gradcam[0][1].cpu().numpy(), blur=True)\n",
    "# fig, ax = plt.subplots(1, 1, figsize=(10, 10))\n",
    "# ax.imshow(avg_gradcam)\n",
    "# fig.show()\n",
    "\n",
    "avg_gradcam_2 = getAttMap(\n",
    "    norm_img, gradcam[0][1].cpu().numpy(), blur=True, overlap=False,\n",
    ")"
   ],
   "metadata": {
    "collapsed": false
   },
   "id": "initial_id"
  },
  {
   "cell_type": "code",
   "execution_count": null,
   "outputs": [],
   "source": [
    "coordinates = np.unravel_index(avg_gradcam_2.argmax(), avg_gradcam_2.shape)\n",
    "coordinates"
   ],
   "metadata": {
    "collapsed": false
   },
   "id": "5898ed34c0ddfa00"
  },
  {
   "cell_type": "code",
   "execution_count": null,
   "outputs": [],
   "source": [
    "plt.imshow(avg_gradcam)\n",
    "plt.plot(coordinates[1], coordinates[0], marker=\"+\", markersize=20, c='red')\n",
    "plt.show()"
   ],
   "metadata": {
    "collapsed": false
   },
   "id": "c3b0ed6e20ee9a9b"
  },
  {
   "cell_type": "code",
   "execution_count": null,
   "outputs": [],
   "source": [],
   "metadata": {
    "collapsed": false
   },
   "id": "975612a2f9cb5854"
  }
 ],
 "metadata": {
  "kernelspec": {
   "display_name": "Python 3",
   "language": "python",
   "name": "python3"
  },
  "language_info": {
   "codemirror_mode": {
    "name": "ipython",
    "version": 2
   },
   "file_extension": ".py",
   "mimetype": "text/x-python",
   "name": "python",
   "nbconvert_exporter": "python",
   "pygments_lexer": "ipython2",
   "version": "2.7.6"
  }
 },
 "nbformat": 4,
 "nbformat_minor": 5
}
